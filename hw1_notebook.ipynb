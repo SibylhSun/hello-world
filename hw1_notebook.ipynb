{
 "cells": [
  {
   "cell_type": "markdown",
   "metadata": {},
   "source": [
    "# HW1 : Regression, Cross-Validation, and  Regularization"
   ]
  },
  {
   "cell_type": "code",
   "execution_count": 1,
   "metadata": {},
   "outputs": [],
   "source": [
    "import os\n",
    "import numpy as np\n",
    "import warnings\n",
    "\n",
    "import sklearn.preprocessing\n",
    "import sklearn.pipeline\n",
    "import sklearn.linear_model\n",
    "import sklearn.neighbors\n",
    "import sklearn.model_selection\n",
    "\n",
    "from sklearn.pipeline import Pipeline\n",
    "from cross_validation import train_models_and_calc_scores_for_n_fold_cv,make_train_and_test_row_ids_for_n_fold_cv"
   ]
  },
  {
   "cell_type": "code",
   "execution_count": 2,
   "metadata": {},
   "outputs": [],
   "source": [
    "from matplotlib import pyplot as plt\n",
    "%matplotlib inline\n",
    "\n",
    "import seaborn as sns\n",
    "sns.set('notebook', font_scale=1.25, style='whitegrid')"
   ]
  },
  {
   "cell_type": "markdown",
   "metadata": {},
   "source": [
    "# Set random seed to make all computations reproducible"
   ]
  },
  {
   "cell_type": "code",
   "execution_count": 3,
   "metadata": {},
   "outputs": [],
   "source": [
    "SEED = 12345"
   ]
  },
  {
   "cell_type": "markdown",
   "metadata": {},
   "source": [
    "# Load the dataset\n",
    "\n",
    "Predefined 'x' and 'y' arrays for train/valid/test"
   ]
  },
  {
   "cell_type": "code",
   "execution_count": 4,
   "metadata": {},
   "outputs": [],
   "source": [
    "#DATA_DIR = '../data_auto/'\n",
    "DATA_DIR = ''"
   ]
  },
  {
   "cell_type": "code",
   "execution_count": 5,
   "metadata": {},
   "outputs": [],
   "source": [
    "x_tr_MF = np.loadtxt(os.path.join(DATA_DIR, 'x_train.csv'), delimiter=',', skiprows=1)\n",
    "x_va_NF = np.loadtxt(os.path.join(DATA_DIR, 'x_valid.csv'), delimiter=',', skiprows=1)\n",
    "x_te_PF = np.loadtxt(os.path.join(DATA_DIR, 'x_test.csv'), delimiter=',', skiprows=1)"
   ]
  },
  {
   "cell_type": "code",
   "execution_count": 6,
   "metadata": {},
   "outputs": [],
   "source": [
    "y_tr_M = np.loadtxt(os.path.join(DATA_DIR, 'y_train.csv'), delimiter=',', skiprows=1)\n",
    "y_va_N = np.loadtxt(os.path.join(DATA_DIR, 'y_valid.csv'), delimiter=',', skiprows=1)\n",
    "y_te_P = np.loadtxt(os.path.join(DATA_DIR, 'y_test.csv'), delimiter=',', skiprows=1)"
   ]
  },
  {
   "cell_type": "code",
   "execution_count": 7,
   "metadata": {},
   "outputs": [
    {
     "name": "stdout",
     "output_type": "stream",
     "text": [
      "x_tr_MF (192, 4) <class 'numpy.ndarray'>\n",
      "x_va_NF (100, 4)\n",
      "x_te_PF (100, 4)\n",
      "y_tr_M (192,)\n",
      "y_va_N (100,)\n",
      "y_te_P (100,)\n"
     ]
    }
   ],
   "source": [
    "print('x_tr_MF', x_tr_MF.shape, type(x_tr_MF))\n",
    "print('x_va_NF', x_va_NF.shape)\n",
    "print('x_te_PF', x_te_PF.shape)\n",
    "print('y_tr_M', y_tr_M.shape)\n",
    "print('y_va_N', y_va_N.shape)\n",
    "print('y_te_P', y_te_P.shape)"
   ]
  },
  {
   "cell_type": "markdown",
   "metadata": {},
   "source": [
    "# Load completed code"
   ]
  },
  {
   "cell_type": "code",
   "execution_count": 8,
   "metadata": {},
   "outputs": [],
   "source": [
    "from cross_validation import train_models_and_calc_scores_for_n_fold_cv\n",
    "from performance_metrics import calc_mean_squared_error"
   ]
  },
  {
   "cell_type": "markdown",
   "metadata": {},
   "source": [
    "# Define useful plotting functions"
   ]
  },
  {
   "cell_type": "code",
   "execution_count": 9,
   "metadata": {},
   "outputs": [],
   "source": [
    "def plot_train_and_valid_error_vs_degree(\n",
    "        degree_list, err_tr_list=None, err_va_list=None):\n",
    "    ''' Plot provided errors versus degrees on a new figure\n",
    "    '''\n",
    "    if err_va_list is not None:\n",
    "        plt.plot(degree_list, err_va_list, 'rs-', label='valid');\n",
    "    if err_tr_list is not None:\n",
    "        plt.plot(degree_list, err_tr_list, 'bd:', label='train');\n",
    "    plt.ylim([0, 74]); # Do NOT change this! Helps all reports look the same.\n",
    "    plt.legend(loc='upper right'); # Always include a legend"
   ]
  },
  {
   "cell_type": "markdown",
   "metadata": {},
   "source": [
    "# Define methods for building pipelines\n",
    "\n",
    "Remember, we discussed pipelines in the lab from day04 on \"Feature Engineering\""
   ]
  },
  {
   "cell_type": "code",
   "execution_count": 10,
   "metadata": {},
   "outputs": [],
   "source": [
    "def make_poly_linear_regr_pipeline(degree=1):\n",
    "    pipeline = sklearn.pipeline.Pipeline(\n",
    "        steps=[\n",
    "         ('rescaler', sklearn.preprocessing.MinMaxScaler()),\n",
    "         ('poly_transformer', sklearn.preprocessing.PolynomialFeatures(degree=degree, include_bias=False)),\n",
    "         ('linear_regr', sklearn.linear_model.LinearRegression()),\n",
    "        ])\n",
    "\n",
    "    # Return the constructed pipeline\n",
    "    # We can treat it as if it has a 'regression' API\n",
    "    # e.g. a fit and a predict method\n",
    "    return pipeline"
   ]
  },
  {
   "cell_type": "code",
   "execution_count": 11,
   "metadata": {},
   "outputs": [],
   "source": [
    "def make_poly_ridge_regr_pipeline(degree=1, alpha=1.0):\n",
    "    pipeline = sklearn.pipeline.Pipeline(\n",
    "        steps=[\n",
    "         ('rescaler', sklearn.preprocessing.MinMaxScaler()),\n",
    "         ('poly_transformer', sklearn.preprocessing.PolynomialFeatures(degree=degree, include_bias=False)),\n",
    "         ('ridge_regr', sklearn.linear_model.Ridge(alpha=alpha)),\n",
    "        ])\n",
    "    \n",
    "    # Return the constructed pipeline\n",
    "    # We can treat it as if it has a 'regression' API\n",
    "    # e.g. a fit and a predict method\n",
    "    return pipeline"
   ]
  },
  {
   "cell_type": "markdown",
   "metadata": {},
   "source": [
    "# Problem 1: Polynomial Degree Selection on Fixed Validation Set"
   ]
  },
  {
   "cell_type": "code",
   "execution_count": 12,
   "metadata": {},
   "outputs": [],
   "source": [
    "degree_list = [1, 2, 3, 4, 5, 6, 7]\n",
    "fv_err_tr_list = []\n",
    "fv_err_va_list = []\n",
    "\n",
    "pipeline_list = []\n",
    "for degree in degree_list:\n",
    "\n",
    "    # TODO create a pipeline using features with current degree value\n",
    "    pipeline = make_poly_linear_regr_pipeline(degree)\n",
    "    # TODO train this pipeline on provided training data\n",
    "    pipeline.fit(x_tr_MF, y_tr_M)\n",
    "    # Compute training error\n",
    "    yhat_tr_M = pipeline.predict(x_tr_MF)   # TODO fixme\n",
    "    err_tr = sklearn.metrics.mean_squared_error(y_tr_M, yhat_tr_M) # TODO fixme\n",
    "    \n",
    "    # Compute validation error\n",
    "    yhat_va_N = pipeline.predict(x_va_NF)  # TODO fixme\n",
    "    err_va = sklearn.metrics.mean_squared_error(y_va_N, yhat_va_N) # TODO fixme\n",
    "\n",
    "    fv_err_tr_list.append(err_tr)\n",
    "    fv_err_va_list.append(err_va)"
   ]
  },
  {
   "cell_type": "code",
   "execution_count": 13,
   "metadata": {},
   "outputs": [
    {
     "name": "stdout",
     "output_type": "stream",
     "text": [
      "fv_err_tr_list: [17.95482444211353, 13.947809429967464, 11.452876921225453, 8.412902227196776, 5.246464930945852, 0.30000184893558374, 0.013837239719832079]\n",
      "fv_err_va_list: [19.0126711197124, 15.793274734511765, 17.28284331205879, 67.82032382050369, 2.2100038527948263e+19, 2.0063332724445501e+18, 1.429446894638988e+16]\n"
     ]
    }
   ],
   "source": [
    "print('fv_err_tr_list:', fv_err_tr_list)\n",
    "print('fv_err_va_list:', fv_err_va_list)"
   ]
  },
  {
   "cell_type": "code",
   "execution_count": 14,
   "metadata": {},
   "outputs": [
    {
     "name": "stdout",
     "output_type": "stream",
     "text": [
      "The intercept coefficient value is:  12901018868.880665\n"
     ]
    }
   ],
   "source": [
    "pipeline = make_poly_linear_regr_pipeline(degree=6)\n",
    "pipeline.fit(x_tr_MF, y_tr_M)\n",
    "print('The intercept coefficient value is: ', pipeline.named_steps[\"linear_regr\"].intercept_ )"
   ]
  },
  {
   "cell_type": "code",
   "execution_count": 15,
   "metadata": {},
   "outputs": [
    {
     "name": "stdout",
     "output_type": "stream",
     "text": [
      "The minimum weight coefficient is:  -9693867535991.963 \n",
      "The maxmium weight weight coefficient is:  5546360787986.932\n"
     ]
    }
   ],
   "source": [
    "arr = pipeline.named_steps[\"linear_regr\"].coef_\n",
    "print( 'The minimum weight coefficient is: ', min(arr), '\\nThe maxmium weight weight coefficient is: ', max(arr))"
   ]
  },
  {
   "cell_type": "markdown",
   "metadata": {},
   "source": [
    "### Figure 1: Error vs degree"
   ]
  },
  {
   "cell_type": "code",
   "execution_count": 16,
   "metadata": {},
   "outputs": [
    {
     "data": {
      "image/png": "[encoded data removed]",
      "text/plain": [
       "<Figure size 648x432 with 1 Axes>"
      ]
     },
     "metadata": {},
     "output_type": "display_data"
    }
   ],
   "source": [
    "plt.figure(figsize=(9,6))\n",
    "plot_train_and_valid_error_vs_degree(degree_list, fv_err_tr_list, fv_err_va_list);\n",
    "plt.title('Model Selection with Fixed Validation Set: Error vs. Degree');\n",
    "plt.savefig('figure1-err_vs_degree-fv.pdf')"
   ]
  },
  {
   "cell_type": "markdown",
   "metadata": {},
   "source": [
    "### Prediction 1: Score on the test set using the chosen model"
   ]
  },
  {
   "cell_type": "code",
   "execution_count": 17,
   "metadata": {},
   "outputs": [],
   "source": [
    "# TODO compute score on test set for later\n",
    "pipeline = make_poly_linear_regr_pipeline(degree = 2)\n",
    "pipeline.fit(x_tr_MF, y_tr_M)\n",
    "yhat_te_P = pipeline.predict(x_te_PF)\n",
    "err_te = sklearn.metrics.mean_squared_error(y_te_P, yhat_te_P)"
   ]
  },
  {
   "cell_type": "code",
   "execution_count": 18,
   "metadata": {},
   "outputs": [
    {
     "name": "stdout",
     "output_type": "stream",
     "text": [
      "Selected Parameters:\n",
      "Degree=2\n",
      "Fixed validation set estimate of heldout error:\n",
      "15.793274734511765\n",
      "Error on the test-set:\n",
      "15.932092578370812\n",
      "Mean Square error on the test-set:\n",
      " 3.9915025464567617\n"
     ]
    }
   ],
   "source": [
    "print(\"Selected Parameters:\")\n",
    "print(\"Degree=2\")\n",
    "print(\"Fixed validation set estimate of heldout error:\")\n",
    "print(fv_err_va_list[1])\n",
    "print(\"Error on the test-set:\")\n",
    "print(err_te)\n",
    "print('Mean Square error on the test-set:\\n',np.sqrt(err_te))"
   ]
  },
  {
   "cell_type": "markdown",
   "metadata": {},
   "source": [
    "# Problem 2: Cross Validation for Polynomial Feature Regression"
   ]
  },
  {
   "cell_type": "code",
   "execution_count": 19,
   "metadata": {},
   "outputs": [
    {
     "name": "stdout",
     "output_type": "stream",
     "text": [
      "(292, 4)\n",
      "(292,)\n"
     ]
    }
   ],
   "source": [
    "x_trva_LF = np.vstack((x_tr_MF.copy(), x_va_NF.copy())) # TODO fix concat your train and validation set x values\n",
    "y_trva_L = np.append(y_tr_M.copy(), y_va_N.copy())    # TODO fix concat your train and validation set y values\n",
    "print(x_trva_LF.shape)\n",
    "print(y_trva_L.shape)"
   ]
  },
  {
   "cell_type": "code",
   "execution_count": 20,
   "metadata": {},
   "outputs": [],
   "source": [
    "K = 10 # num folds\n",
    "L,F = x_trva_LF.shape\n",
    "degree_list = [1, 2, 3, 4, 5, 6, 7]\n",
    "cv_err_tr_list = []\n",
    "cv_err_va_list = []\n",
    "\n",
    "for degree in degree_list:\n",
    "\n",
    "    # TODO create a pipeline using features with current degree value\n",
    "    # TODO call your function to train a separate model for each fold and return train and valid errors\n",
    "    # Don't forget to pass random_state = SEED (where SEED is defined above) so its reproducible\n",
    "    # tr_error_K, valid_error_K = train_models_and_calc_scores_for_n_fold_cv() # TODO\n",
    "    pipeline_cv = make_poly_linear_regr_pipeline(degree) \n",
    "    train_ids_per_fold, test_ids_per_fold = make_train_and_test_row_ids_for_n_fold_cv(n_examples=L, n_folds=K, random_state=SEED)\n",
    "    tr_error_K, valid_error_K = train_models_and_calc_scores_for_n_fold_cv(pipeline_cv, x_trva_LF, y_trva_L, n_folds=K, random_state=SEED)\n",
    "    err_tr = np.mean(tr_error_K) # TODO fixme, compute average error across all train folds\n",
    "    err_va = np.mean(valid_error_K) # TODO fixme, compute average error across all heldout folds\n",
    "    \n",
    "    cv_err_tr_list.append(err_tr)\n",
    "    cv_err_va_list.append(err_va)"
   ]
  },
  {
   "cell_type": "code",
   "execution_count": 21,
   "metadata": {},
   "outputs": [
    {
     "data": {
      "text/plain": [
       "([18.13810024059878,\n",
       "  14.206140715773198,\n",
       "  12.321190709028915,\n",
       "  9.617530571040216,\n",
       "  7.646628889380463,\n",
       "  3.9363387390869113,\n",
       "  0.43556490614868276],\n",
       " [18.802745318693177,\n",
       "  16.266193249812794,\n",
       "  40.29725309942502,\n",
       "  6.896589304414372e+16,\n",
       "  2.2916699676355002e+21,\n",
       "  3.6276118455465206e+21,\n",
       "  7701438886403666.0])"
      ]
     },
     "execution_count": 21,
     "metadata": {},
     "output_type": "execute_result"
    }
   ],
   "source": [
    "cv_err_tr_list, cv_err_va_list"
   ]
  },
  {
   "cell_type": "markdown",
   "metadata": {},
   "source": [
    "### Figure 2: Error vs degree"
   ]
  },
  {
   "cell_type": "code",
   "execution_count": 22,
   "metadata": {},
   "outputs": [
    {
     "data": {
      "image/png": "[encoded data removed]",
      "text/plain": [
       "<Figure size 648x432 with 1 Axes>"
      ]
     },
     "metadata": {},
     "output_type": "display_data"
    }
   ],
   "source": [
    "plt.figure(figsize=(9,6))\n",
    "plot_train_and_valid_error_vs_degree(degree_list, cv_err_tr_list, cv_err_va_list)\n",
    "plt.title('Linear Regr. Model Selection with 10-fold Cross-Validation: Error vs. Degree');\n",
    "plt.savefig('figure2-err_vs_degree-cv-seed=%d.pdf' % SEED)"
   ]
  },
  {
   "cell_type": "markdown",
   "metadata": {},
   "source": [
    "### Prediction 2: Score on the test set using the chosen model\n",
    "\n",
    "Use the chosen hyperparameters, retrain ONE model on the FULL train+valid set.\n",
    "Then make predictions on the heldout test set."
   ]
  },
  {
   "cell_type": "code",
   "execution_count": 23,
   "metadata": {},
   "outputs": [
    {
     "name": "stdout",
     "output_type": "stream",
     "text": [
      "err_te_cv:  15.334679184359443\n"
     ]
    }
   ],
   "source": [
    "# TODO compute score on test set for later \n",
    "## choose degree=2\n",
    "pipeline_cv = make_poly_linear_regr_pipeline(degree=2) \n",
    "pipeline_cv.fit(x_trva_LF, y_trva_L)\n",
    "yhat_te_P_cv = pipeline_cv.predict(x_te_PF)\n",
    "err_te_cv = sklearn.metrics.mean_squared_error(y_te_P, yhat_te_P_cv)\n",
    "print('err_te_cv: ', err_te_cv)"
   ]
  },
  {
   "cell_type": "code",
   "execution_count": 24,
   "metadata": {},
   "outputs": [
    {
     "name": "stdout",
     "output_type": "stream",
     "text": [
      "Selected Parameters:\n",
      "Degree = 2\n",
      "10-fold CV estimate of heldout error:\n",
      "16.266193249812794\n",
      "Error on the test-set:\n",
      "15.334679184359443\n",
      "Mean Square error on the test-set:\n",
      " 3.9159518873907837\n"
     ]
    }
   ],
   "source": [
    "print(\"Selected Parameters:\")\n",
    "print(\"Degree = 2\")\n",
    "print(\"10-fold CV estimate of heldout error:\")\n",
    "print(cv_err_va_list[1])\n",
    "print(\"Error on the test-set:\")\n",
    "print(err_te_cv)\n",
    "print('Mean Square error on the test-set:\\n',np.sqrt(err_te_cv))"
   ]
  },
  {
   "cell_type": "markdown",
   "metadata": {},
   "source": [
    "# Problem 3: Cross Validation for Ridge Regression"
   ]
  },
  {
   "cell_type": "code",
   "execution_count": 25,
   "metadata": {},
   "outputs": [],
   "source": [
    "alpha_grid = np.logspace(-6, 6, 13) # 10^-6, 10^-5, 10^-4, ... 10^-1, 10^0, 10^1, ... 10^6\n",
    "\n",
    "degree_list = [1, 2, 3, 4, 5, 6, 7]\n",
    "\n",
    "K = 10 # num folds\n",
    "ridge_cv_err_tr_list = []\n",
    "ridge_cv_err_va_list = []\n",
    "\n",
    "ridge_param_list = list()\n",
    "\n",
    "for degree in degree_list:\n",
    "    for alpha in alpha_grid:\n",
    "        ridge_param_list.append(dict(alpha=alpha, degree=degree))\n",
    "        # TODO create a pipeline using features with current degree value\n",
    "        pipeline_rr = make_poly_ridge_regr_pipeline(degree, alpha=alpha) \n",
    "        # TODO call your function to train a separate model for each fold and return train and valid errors\n",
    "        # Don't forget to pass random_state = SEED (where SEED is defined above) so its reproducible\n",
    "        # tr_error_K, valid_error_K = train_models_and_calc_scores_for_n_fold_cv() # TODO\n",
    "        train_ids_per_fold, test_ids_per_fold = make_train_and_test_row_ids_for_n_fold_cv(n_examples=L, n_folds=K, random_state=SEED)\n",
    "        tr_error_K, valid_error_K = train_models_and_calc_scores_for_n_fold_cv(pipeline_rr, x_trva_LF, y_trva_L, n_folds=K, random_state=SEED)\n",
    "        err_tr = np.mean(tr_error_K) # TODO fixme, compute average error across all train folds\n",
    "        err_va = np.mean(valid_error_K) # TODO fixme, compute average error across all heldout folds\n",
    "    \n",
    "        ridge_cv_err_tr_list.append(err_tr)\n",
    "        ridge_cv_err_va_list.append(err_va)"
   ]
  },
  {
   "cell_type": "code",
   "execution_count": 26,
   "metadata": {
    "scrolled": false
   },
   "outputs": [
    {
     "name": "stdout",
     "output_type": "stream",
     "text": [
      "For alpha = 0.1: \n",
      "Degree = 1 , ridge_cv_err_va = 18.784175412542044\n",
      "Degree = 2 , ridge_cv_err_va = 15.873452392311526\n",
      "Degree = 3 , ridge_cv_err_va = 15.6564503474716\n",
      "Degree = 4 , ridge_cv_err_va = 15.545712105460577\n",
      "Degree = 5 , ridge_cv_err_va = 15.436319499286588\n",
      "Degree = 6 , ridge_cv_err_va = 15.355813278405398\n",
      "Degree = 7 , ridge_cv_err_va = 15.292202802995925\n"
     ]
    }
   ],
   "source": [
    "j = 1\n",
    "print('For alpha = 0.1: ')\n",
    "for i in range(5,len(ridge_cv_err_va_list),13):\n",
    "    print('Degree =',j, ', ridge_cv_err_va =', ridge_cv_err_va_list[i])\n",
    "    j = j + 1"
   ]
  },
  {
   "cell_type": "markdown",
   "metadata": {},
   "source": [
    "### Figure 3: Error vs degree at alpha = 10^-3, alpha = 0.1, alpha = 1000"
   ]
  },
  {
   "cell_type": "code",
   "execution_count": 27,
   "metadata": {
    "scrolled": true
   },
   "outputs": [
    {
     "data": {
      "image/png": "[encoded data removed]",
      "text/plain": [
       "<Figure size 1152x396 with 3 Axes>"
      ]
     },
     "metadata": {},
     "output_type": "display_data"
    }
   ],
   "source": [
    "fig, ax_grid = plt.subplots(nrows=1, ncols=3, sharex=True, sharey=True, figsize=(16, 5.5))\n",
    "\n",
    "for aa, alpha in enumerate([0.00001, 0.1, 1000.0]):\n",
    "    # Find the elements of the param list that correspond to setting alpha to specific value\n",
    "    match_ids = [pp for pp in range(len(ridge_param_list)) if np.allclose(alpha, ridge_param_list[pp]['alpha'])]\n",
    "    train_err = np.asarray(ridge_cv_err_tr_list)[match_ids]\n",
    "    test_err = np.asarray(ridge_cv_err_va_list)[match_ids]\n",
    "\n",
    "    # Select which panel (of the 3 in figure) to be current active axis\n",
    "    cur_ax = ax_grid[aa]\n",
    "    plt.sca(cur_ax);\n",
    "    \n",
    "    # Set the title of the active axis\n",
    "    cur_ax.set_title('alpha = %.5g' % alpha)\n",
    "\n",
    "    # Draw line plot in active axis\n",
    "    plot_train_and_valid_error_vs_degree(degree_list, train_err, test_err)\n",
    "\n",
    "plt.suptitle('Ridge Model Selection with 10-fold Cross-Validation: Error vs. Degree');\n",
    "plt.savefig('figure3-3_panels_by_alpha-err_vs_degree-seed=%d.pdf' % SEED, pad_inches=0, bbox_inches='tight')"
   ]
  },
  {
   "cell_type": "markdown",
   "metadata": {},
   "source": [
    "### Prediction 3: Score on the test set using the chosen model\n"
   ]
  },
  {
   "cell_type": "code",
   "execution_count": 28,
   "metadata": {},
   "outputs": [
    {
     "name": "stdout",
     "output_type": "stream",
     "text": [
      "err_te_rr:  14.873894376805325\n"
     ]
    }
   ],
   "source": [
    "# TODO compute score on test set for later \n",
    "## choose degree=2\n",
    "pipeline_rr = make_poly_ridge_regr_pipeline(degree=2, alpha=0.1) \n",
    "pipeline_rr.fit(x_trva_LF, y_trva_L)\n",
    "yhat_te_P_rr = pipeline_rr.predict(x_te_PF)\n",
    "err_te_rr = sklearn.metrics.mean_squared_error(y_te_P, yhat_te_P_rr)\n",
    "print('err_te_rr: ', err_te_rr)"
   ]
  },
  {
   "cell_type": "code",
   "execution_count": 29,
   "metadata": {},
   "outputs": [
    {
     "name": "stdout",
     "output_type": "stream",
     "text": [
      "Selected Parameters (alpha and degree):\n",
      "alpha = 0.1, degree = 2\n",
      "10-fold CV estimate of heldout error:\n",
      "15.873452392311526\n",
      "Error on the test-set:\n",
      "14.873894376805325\n",
      "Mean Square error on the test-set:\n",
      " 3.8566688186575373\n"
     ]
    }
   ],
   "source": [
    "print(\"Selected Parameters (alpha and degree):\")\n",
    "print(\"alpha = 0.1, degree = 2\")\n",
    "print(\"10-fold CV estimate of heldout error:\")\n",
    "print(ridge_cv_err_va_list[18])\n",
    "print(\"Error on the test-set:\")\n",
    "print(err_te_rr)\n",
    "print('Mean Square error on the test-set:\\n',np.sqrt(err_te_rr))"
   ]
  },
  {
   "cell_type": "markdown",
   "metadata": {},
   "source": [
    "# Problem 4 "
   ]
  },
  {
   "cell_type": "markdown",
   "metadata": {},
   "source": [
    "## find the RMSE for baseline"
   ]
  },
  {
   "cell_type": "code",
   "execution_count": 30,
   "metadata": {},
   "outputs": [],
   "source": [
    "mean_arr = np.array([np.mean(y_tr_M)] * len(y_tr_M))"
   ]
  },
  {
   "cell_type": "code",
   "execution_count": 31,
   "metadata": {},
   "outputs": [
    {
     "data": {
      "text/plain": [
       "8.231074409668523"
      ]
     },
     "execution_count": 31,
     "metadata": {},
     "output_type": "execute_result"
    }
   ],
   "source": [
    "rmse_baseline = np.sqrt(sklearn.metrics.mean_squared_error(y_tr_M, mean_arr))\n",
    "rmse_baseline"
   ]
  }
 ],
 "metadata": {
  "kernelspec": {
   "display_name": "Python 3",
   "language": "python",
   "name": "python3"
  },
  "language_info": {
   "codemirror_mode": {
    "name": "ipython",
    "version": 3
   },
   "file_extension": ".py",
   "mimetype": "text/x-python",
   "name": "python",
   "nbconvert_exporter": "python",
   "pygments_lexer": "ipython3",
   "version": "3.7.6"
  }
 },
 "nbformat": 4,
 "nbformat_minor": 4
}
